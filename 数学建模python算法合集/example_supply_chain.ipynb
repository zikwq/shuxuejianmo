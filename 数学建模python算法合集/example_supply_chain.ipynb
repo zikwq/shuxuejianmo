{
 "cells": [
  {
   "cell_type": "markdown",
   "metadata": {},
   "source": [
    "**references:**\n",
    "\n",
    "\\[1\\] 王文韬. 合作质量投资情形下商品三重竞争均衡与协调策略研究\\[D\\].湖南大学,2018.\n",
    "\n",
    "> piperliu@qq.com\n",
    "\n",
    "> bilibili: Piper_佳鸽\n",
    "\n",
    "> WeiXin: Piper蛋窝"
   ]
  },
  {
   "cell_type": "markdown",
   "metadata": {},
   "source": [
    "\\[1\\]的第20页，两个制造商，一个供应商，顾客对产品 i 的需求函数可以表达为：\n",
    "\n",
    "$$D_i(p,q,s) = \\epsilon_i \\alpha - b_1 p_i + \\beta_1 p_j + b_2 q_i - \\beta_2 q_j + b_3 s_i - \\beta_3 s_j, \\quad i, j = 1,2$$\n",
    "\n",
    "\\[1\\]的第21页，该供应链在集中决策策略下的总利润：\n",
    "\n",
    "$$\\Pi_{SC} = \\sum^2_{i=1} [(p_i - c_i)D_i - \\frac{\\mu_i q_i^2}{2} - \\frac{\\theta_i s^2_i}{2}]$$\n",
    "\n",
    "**下面求其均衡状态的定价及质量水平：**"
   ]
  },
  {
   "cell_type": "code",
   "execution_count": 4,
   "metadata": {},
   "outputs": [],
   "source": [
    "import sympy as sp\n",
    "\n",
    "sp.init_printing()\n",
    "\n",
    "# 声明变量\n",
    "epsilon_1, epsilon_2, alpha = sp.symbols('epsilon_1, epsilon_2, alpha')\n",
    "b_1, b_2, b_3, beta_1, beta_2, beta_3 = sp.symbols('b_1, b_2, b_3, beta_1, beta_2, beta_3')\n",
    "p_1, p_2, c_1, c_2, mu_1, mu_2 = sp.symbols('p_1, p_2, c_1, c_2, mu_1, mu_2')\n",
    "q_1, q_2, theta_1, theta_2, s_1, s_2 = sp.symbols('q_1, q_2, theta_1, theta_2, s_1, s_2')\n",
    "D_1, D_2 = sp.symbols('D_1, D_2')"
   ]
  },
  {
   "cell_type": "code",
   "execution_count": 10,
   "metadata": {},
   "outputs": [],
   "source": [
    "# 写公式\n",
    "D_1 = epsilon_1 * alpha - b_1 * p_1 + beta_1 * p_2 + b_2 * q_1 - beta_2 * q_2 + b_3 * s_1 - beta_3 * s_2\n",
    "D_2 = epsilon_1 * alpha - b_1 * p_2 + beta_1 * p_1 + b_2 * q_2 - beta_2 * q_1 + b_3 * s_2 - beta_3 * s_1\n",
    "\n",
    "Pi_SC = (p_1 - c_1) * D_1 - mu_1 * q_1 ** 2 / 2 - theta_1 * s_1 ** 2 / 2 + (p_2 - c_2) * D_2 - mu_2 * q_2 ** 2 / 2 - theta_2 * s_2 ** 2 / 2"
   ]
  },
  {
   "cell_type": "code",
   "execution_count": 11,
   "metadata": {},
   "outputs": [
    {
     "data": {
      "image/png": "[encoded data removed]",
      "text/latex": [
       "$$- \\frac{\\mu_{1} q_{1}^{2}}{2} - \\frac{\\mu_{2} q_{2}^{2}}{2} - \\frac{s_{1}^{2} \\theta_{1}}{2} - \\frac{s_{2}^{2} \\theta_{2}}{2} + \\left(- c_{1} + p_{1}\\right) \\left(\\alpha \\epsilon_{1} - b_{1} p_{1} + b_{2} q_{1} + b_{3} s_{1} + \\beta_{1} p_{2} - \\beta_{2} q_{2} - \\beta_{3} s_{2}\\right) + \\left(- c_{2} + p_{2}\\right) \\left(\\alpha \\epsilon_{1} - b_{1} p_{2} + b_{2} q_{2} + b_{3} s_{2} + \\beta_{1} p_{1} - \\beta_{2} q_{1} - \\beta_{3} s_{1}\\right)$$"
      ],
      "text/plain": [
       "       2        2     2        2                                              \n",
       "  μ₁⋅q₁    μ₂⋅q₂    s₁ ⋅θ₁   s₂ ⋅θ₂                                           \n",
       "- ────── - ────── - ────── - ────── + (-c₁ + p₁)⋅(α⋅ε₁ - b₁⋅p₁ + b₂⋅q₁ + b₃⋅s₁\n",
       "    2        2        2        2                                              \n",
       "\n",
       "                                                                              \n",
       "                                                                              \n",
       " + β₁⋅p₂ - β₂⋅q₂ - β₃⋅s₂) + (-c₂ + p₂)⋅(α⋅ε₁ - b₁⋅p₂ + b₂⋅q₂ + b₃⋅s₂ + β₁⋅p₁ -\n",
       "                                                                              \n",
       "\n",
       "               \n",
       "               \n",
       " β₂⋅q₁ - β₃⋅s₁)\n",
       "               "
      ]
     },
     "execution_count": 11,
     "metadata": {},
     "output_type": "execute_result"
    }
   ],
   "source": [
    "Pi_SC"
   ]
  },
  {
   "cell_type": "code",
   "execution_count": 15,
   "metadata": {},
   "outputs": [
    {
     "data": {
      "image/png": "[encoded data removed]",
      "text/latex": [
       "$$\\left [ \\left [ - 2 b_{1}, \\quad 2 \\beta_{1}, \\quad b_{2}, \\quad - \\beta_{2}\\right ], \\quad \\left [ 2 \\beta_{1}, \\quad - 2 b_{1}, \\quad - \\beta_{2}, \\quad b_{2}\\right ], \\quad \\left [ b_{2}, \\quad - \\beta_{2}, \\quad - \\mu_{1}, \\quad 0\\right ], \\quad \\left [ - \\beta_{2}, \\quad b_{2}, \\quad 0, \\quad - \\mu_{2}\\right ]\\right ]$$"
      ],
      "text/plain": [
       "[[-2⋅b₁, 2⋅β₁, b₂, -β₂], [2⋅β₁, -2⋅b₁, -β₂, b₂], [b₂, -β₂, -μ₁, 0], [-β₂, b₂, \n",
       "0, -μ₂]]"
      ]
     },
     "execution_count": 15,
     "metadata": {},
     "output_type": "execute_result"
    }
   ],
   "source": [
    "hessian = list()\n",
    "\n",
    "pq_list = [p_1, p_2, q_1, q_2]\n",
    "for i in range(4):\n",
    "    sub_hessian = list()\n",
    "    for j in range(4):\n",
    "        diff_1 = sp.diff(Pi_SC, pq_list[i])\n",
    "        diff_2 = sp.diff(diff_1, pq_list[j])\n",
    "        sub_hessian.append(diff_2)\n",
    "    hessian.append(sub_hessian)\n",
    "hessian"
   ]
  },
  {
   "cell_type": "code",
   "execution_count": 16,
   "metadata": {},
   "outputs": [
    {
     "data": {
      "image/png": "[encoded data removed]",
      "text/latex": [
       "$$\\left \\{ p_{1} : \\frac{1}{2 b_{1} \\mu_{1} - b_{2}^{2}} \\left(- b_{2} \\left(b_{2} c_{1} - \\beta_{2} c_{2} + \\beta_{2} p_{2}\\right) + \\mu_{1} \\left(\\alpha \\epsilon_{1} + b_{1} c_{1} + b_{3} s_{1} - \\beta_{1} c_{2} + 2 \\beta_{1} p_{2} - \\beta_{2} q_{2} - \\beta_{3} s_{2}\\right)\\right), \\quad q_{1} : \\frac{1}{2 b_{1} \\mu_{1} - b_{2}^{2}} \\left(- 2 b_{1} \\left(b_{2} c_{1} - \\beta_{2} c_{2} + \\beta_{2} p_{2}\\right) + b_{2} \\left(\\alpha \\epsilon_{1} + b_{1} c_{1} + b_{3} s_{1} - \\beta_{1} c_{2} + 2 \\beta_{1} p_{2} - \\beta_{2} q_{2} - \\beta_{3} s_{2}\\right)\\right)\\right \\}$$"
      ],
      "text/plain": [
       "⎧    -b₂⋅(b₂⋅c₁ - β₂⋅c₂ + β₂⋅p₂) + μ₁⋅(α⋅ε₁ + b₁⋅c₁ + b₃⋅s₁ - β₁⋅c₂ + 2⋅β₁⋅p₂ \n",
       "⎪p₁: ─────────────────────────────────────────────────────────────────────────\n",
       "⎨                                                      2                      \n",
       "⎪                                          2⋅b₁⋅μ₁ - b₂                       \n",
       "⎩                                                                             \n",
       "\n",
       "- β₂⋅q₂ - β₃⋅s₂)      -2⋅b₁⋅(b₂⋅c₁ - β₂⋅c₂ + β₂⋅p₂) + b₂⋅(α⋅ε₁ + b₁⋅c₁ + b₃⋅s₁\n",
       "────────────────, q₁: ────────────────────────────────────────────────────────\n",
       "                                                                         2    \n",
       "                                                             2⋅b₁⋅μ₁ - b₂     \n",
       "                                                                              \n",
       "\n",
       " - β₁⋅c₂ + 2⋅β₁⋅p₂ - β₂⋅q₂ - β₃⋅s₂)⎫\n",
       "───────────────────────────────────⎪\n",
       "                                   ⎬\n",
       "                                   ⎪\n",
       "                                   ⎭"
      ]
     },
     "execution_count": 16,
     "metadata": {},
     "output_type": "execute_result"
    }
   ],
   "source": [
    "# 解方程组\n",
    "eq_1 = sp.diff(Pi_SC, p_1)\n",
    "eq_2 = sp.diff(Pi_SC, q_1)\n",
    "\n",
    "sp.solve([eq_1, eq_2], [p_1, q_1])"
   ]
  },
  {
   "cell_type": "code",
   "execution_count": 17,
   "metadata": {},
   "outputs": [
    {
     "data": {
      "text/plain": [
       "'- \\\\frac{\\\\mu_{1} q_{1}^{2}}{2} - \\\\frac{\\\\mu_{2} q_{2}^{2}}{2} - \\\\frac{s_{1}^{2} \\\\theta_{1}}{2} - \\\\frac{s_{2}^{2} \\\\theta_{2}}{2} + \\\\left(- c_{1} + p_{1}\\\\right) \\\\left(\\\\alpha \\\\epsilon_{1} - b_{1} p_{1} + b_{2} q_{1} + b_{3} s_{1} + \\\\beta_{1} p_{2} - \\\\beta_{2} q_{2} - \\\\beta_{3} s_{2}\\\\right) + \\\\left(- c_{2} + p_{2}\\\\right) \\\\left(\\\\alpha \\\\epsilon_{1} - b_{1} p_{2} + b_{2} q_{2} + b_{3} s_{2} + \\\\beta_{1} p_{1} - \\\\beta_{2} q_{1} - \\\\beta_{3} s_{1}\\\\right)'"
      ]
     },
     "execution_count": 17,
     "metadata": {},
     "output_type": "execute_result"
    }
   ],
   "source": [
    "sp.latex(Pi_SC)"
   ]
  },
  {
   "cell_type": "code",
   "execution_count": 18,
   "metadata": {},
   "outputs": [],
   "source": [
    "import re\n",
    "def printWOSUOWEI(symbols):\n",
    "    str_ = sp.latex(symbols)\n",
    "    str_ = re.sub(r'\\$', r'\\\\', str_)\n",
    "    print(str_)"
   ]
  },
  {
   "cell_type": "code",
   "execution_count": 19,
   "metadata": {},
   "outputs": [
    {
     "name": "stdout",
     "output_type": "stream",
     "text": [
      "- \\frac{\\mu_{1} q_{1}^{2}}{2} - \\frac{\\mu_{2} q_{2}^{2}}{2} - \\frac{s_{1}^{2} \\theta_{1}}{2} - \\frac{s_{2}^{2} \\theta_{2}}{2} + \\left(- c_{1} + p_{1}\\right) \\left(\\alpha \\epsilon_{1} - b_{1} p_{1} + b_{2} q_{1} + b_{3} s_{1} + \\beta_{1} p_{2} - \\beta_{2} q_{2} - \\beta_{3} s_{2}\\right) + \\left(- c_{2} + p_{2}\\right) \\left(\\alpha \\epsilon_{1} - b_{1} p_{2} + b_{2} q_{2} + b_{3} s_{2} + \\beta_{1} p_{1} - \\beta_{2} q_{1} - \\beta_{3} s_{1}\\right)\n"
     ]
    }
   ],
   "source": [
    "printWOSUOWEI(Pi_SC)"
   ]
  },
  {
   "cell_type": "code",
   "execution_count": null,
   "metadata": {},
   "outputs": [],
   "source": []
  }
 ],
 "metadata": {
  "file_extension": ".py",
  "kernelspec": {
   "display_name": "Python 3 (ipykernel)",
   "language": "python",
   "name": "python3"
  },
  "language_info": {
   "codemirror_mode": {
    "name": "ipython",
    "version": 3
   },
   "file_extension": ".py",
   "mimetype": "text/x-python",
   "name": "python",
   "nbconvert_exporter": "python",
   "pygments_lexer": "ipython3",
   "version": "3.8.0"
  },
  "mimetype": "text/x-python",
  "name": "python",
  "npconvert_exporter": "python",
  "pygments_lexer": "ipython3",
  "toc": {
   "base_numbering": 1,
   "nav_menu": {},
   "number_sections": true,
   "sideBar": true,
   "skip_h1_title": false,
   "title_cell": "Table of Contents",
   "title_sidebar": "Contents",
   "toc_cell": false,
   "toc_position": {},
   "toc_section_display": true,
   "toc_window_display": false
  },
  "varInspector": {
   "cols": {
    "lenName": 16,
    "lenType": 16,
    "lenVar": 40
   },
   "kernels_config": {
    "python": {
     "delete_cmd_postfix": "",
     "delete_cmd_prefix": "del ",
     "library": "var_list.py",
     "varRefreshCmd": "print(var_dic_list())"
    },
    "r": {
     "delete_cmd_postfix": ") ",
     "delete_cmd_prefix": "rm(",
     "library": "var_list.r",
     "varRefreshCmd": "cat(var_dic_list()) "
    }
   },
   "types_to_exclude": [
    "module",
    "function",
    "builtin_function_or_method",
    "instance",
    "_Feature"
   ],
   "window_display": false
  },
  "version": 3
 },
 "nbformat": 4,
 "nbformat_minor": 2
}
