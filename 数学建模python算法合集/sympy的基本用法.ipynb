{
 "cells": [
  {
   "cell_type": "markdown",
   "id": "8285597b",
   "metadata": {},
   "source": [
    "1. **导入 SymPy 并定义符号**:"
   ]
  },
  {
   "cell_type": "code",
   "execution_count": 1,
   "id": "336f9e4d",
   "metadata": {},
   "outputs": [],
   "source": [
    "from sympy import symbols, Eq, solve\n",
    "\n",
    "x, y, z = symbols('x y z')"
   ]
  },
  {
   "cell_type": "markdown",
   "id": "9af1a70c",
   "metadata": {},
   "source": [
    "2. **基础算数运算**:"
   ]
  },
  {
   "cell_type": "code",
   "execution_count": 2,
   "id": "449e80f3",
   "metadata": {},
   "outputs": [],
   "source": [
    "expr = x + 2*y"
   ]
  },
  {
   "cell_type": "markdown",
   "id": "e807c99a",
   "metadata": {},
   "source": [
    "3. **展开与简化表达式**:\n"
   ]
  },
  {
   "cell_type": "code",
   "execution_count": 7,
   "id": "80f22eb8",
   "metadata": {},
   "outputs": [
    {
     "data": {
      "text/latex": [
       "$\\displaystyle x^{5} + 5 x^{4} y + 10 x^{3} y^{2} + 10 x^{2} y^{3} + 5 x y^{4} + y^{5}$"
      ],
      "text/plain": [
       "x**5 + 5*x**4*y + 10*x**3*y**2 + 10*x**2*y**3 + 5*x*y**4 + y**5"
      ]
     },
     "execution_count": 7,
     "metadata": {},
     "output_type": "execute_result"
    }
   ],
   "source": [
    "from sympy import expand, simplify\n",
    "\n",
    "expr = (x + y)**5\n",
    "expanded_expr = expand(expr)\n",
    "expanded_expr"
   ]
  },
  {
   "cell_type": "code",
   "execution_count": 8,
   "id": "3ac45a9c",
   "metadata": {},
   "outputs": [
    {
     "data": {
      "text/latex": [
       "$\\displaystyle x^{2} + 2 x y + y^{2}$"
      ],
      "text/plain": [
       "x**2 + 2*x*y + y**2"
      ]
     },
     "execution_count": 8,
     "metadata": {},
     "output_type": "execute_result"
    }
   ],
   "source": [
    "expr2 = x**2 + 2*x*y + y**2\n",
    "simplified_expr = simplify(expr2)\n",
    "simplified_expr"
   ]
  },
  {
   "cell_type": "markdown",
   "id": "7189ebd9",
   "metadata": {},
   "source": [
    "4. **求导**:\n"
   ]
  },
  {
   "cell_type": "code",
   "execution_count": 11,
   "id": "f27cebc2",
   "metadata": {},
   "outputs": [
    {
     "data": {
      "text/latex": [
       "$\\displaystyle 4 x^{3}$"
      ],
      "text/plain": [
       "4*x**3"
      ]
     },
     "execution_count": 11,
     "metadata": {},
     "output_type": "execute_result"
    }
   ],
   "source": [
    "from sympy import diff\n",
    "\n",
    "expr = x**4\n",
    "first_derivative = diff(expr, x)\n",
    "first_derivative"
   ]
  },
  {
   "cell_type": "markdown",
   "id": "a797ccc3",
   "metadata": {},
   "source": [
    "5. **求积分**:\n"
   ]
  },
  {
   "cell_type": "code",
   "execution_count": 13,
   "id": "c9bf7caf",
   "metadata": {},
   "outputs": [
    {
     "data": {
      "text/latex": [
       "$\\displaystyle \\frac{x^{5}}{5}$"
      ],
      "text/plain": [
       "x**5/5"
      ]
     },
     "execution_count": 13,
     "metadata": {},
     "output_type": "execute_result"
    }
   ],
   "source": [
    "from sympy import integrate\n",
    "\n",
    "expr = x**4\n",
    "integral = integrate(expr, x)\n",
    "integral"
   ]
  },
  {
   "cell_type": "markdown",
   "id": "696f72f0",
   "metadata": {},
   "source": [
    "6. **求解方程**:\n"
   ]
  },
  {
   "cell_type": "code",
   "execution_count": 15,
   "id": "5c15c1a2",
   "metadata": {},
   "outputs": [
    {
     "data": {
      "text/plain": [
       "[2, 3]"
      ]
     },
     "execution_count": 15,
     "metadata": {},
     "output_type": "execute_result"
    }
   ],
   "source": [
    "equation = Eq(x**2 - 5*x + 6, 0)\n",
    "solution = solve(equation, x)\n",
    "solution"
   ]
  },
  {
   "cell_type": "markdown",
   "id": "943abbdc",
   "metadata": {},
   "source": [
    "7. **线性代数**:\n"
   ]
  },
  {
   "cell_type": "markdown",
   "id": "ef4a4348",
   "metadata": {},
   "source": [
    " - 求行列式:"
   ]
  },
  {
   "cell_type": "code",
   "execution_count": 17,
   "id": "287c688f",
   "metadata": {},
   "outputs": [
    {
     "data": {
      "text/latex": [
       "$\\displaystyle -2$"
      ],
      "text/plain": [
       "-2"
      ]
     },
     "execution_count": 17,
     "metadata": {},
     "output_type": "execute_result"
    }
   ],
   "source": [
    "from sympy import Matrix\n",
    "\n",
    "m = Matrix([[1, 2], [2, 2]])\n",
    "det = m.det()\n",
    "det"
   ]
  },
  {
   "cell_type": "markdown",
   "id": "17e06804",
   "metadata": {},
   "source": [
    " - 求逆:"
   ]
  },
  {
   "cell_type": "code",
   "execution_count": 18,
   "id": "d9e741ec",
   "metadata": {},
   "outputs": [
    {
     "data": {
      "text/latex": [
       "$\\displaystyle \\left[\\begin{matrix}-1 & 1\\\\1 & - \\frac{1}{2}\\end{matrix}\\right]$"
      ],
      "text/plain": [
       "Matrix([\n",
       "[-1,    1],\n",
       "[ 1, -1/2]])"
      ]
     },
     "execution_count": 18,
     "metadata": {},
     "output_type": "execute_result"
    }
   ],
   "source": [
    "inverse = m.inv()\n",
    "inverse"
   ]
  },
  {
   "cell_type": "markdown",
   "id": "b7e70b88",
   "metadata": {},
   "source": [
    "- 特征值:\n"
   ]
  },
  {
   "cell_type": "code",
   "execution_count": 19,
   "id": "78650c7f",
   "metadata": {},
   "outputs": [
    {
     "data": {
      "text/plain": [
       "{3/2 - sqrt(17)/2: 1, 3/2 + sqrt(17)/2: 1}"
      ]
     },
     "execution_count": 19,
     "metadata": {},
     "output_type": "execute_result"
    }
   ],
   "source": [
    "eigenvalues = m.eigenvals()\n",
    "eigenvalues"
   ]
  },
  {
   "cell_type": "markdown",
   "id": "86e9e10f",
   "metadata": {},
   "source": [
    "8. **三角函数**:\n"
   ]
  },
  {
   "cell_type": "code",
   "execution_count": 21,
   "id": "0e36fe9f",
   "metadata": {},
   "outputs": [
    {
     "data": {
      "text/latex": [
       "$\\displaystyle \\sin{\\left(x \\right)} + \\cos{\\left(x \\right)}$"
      ],
      "text/plain": [
       "sin(x) + cos(x)"
      ]
     },
     "execution_count": 21,
     "metadata": {},
     "output_type": "execute_result"
    }
   ],
   "source": [
    "from sympy import sin, cos, tan, asin, acos, atan\n",
    "\n",
    "expr = sin(x) + cos(x)\n",
    "expr"
   ]
  },
  {
   "cell_type": "markdown",
   "id": "d18fcec7",
   "metadata": {},
   "source": [
    "9. **极限**:\n"
   ]
  },
  {
   "cell_type": "code",
   "execution_count": 23,
   "id": "b96537eb",
   "metadata": {},
   "outputs": [
    {
     "data": {
      "text/latex": [
       "$\\displaystyle - \\frac{1}{6}$"
      ],
      "text/plain": [
       "-1/6"
      ]
     },
     "execution_count": 23,
     "metadata": {},
     "output_type": "execute_result"
    }
   ],
   "source": [
    "from sympy import limit\n",
    "\n",
    "expr = (sin(x) - x) / x**3\n",
    "l = limit(expr, x, 0)\n",
    "l"
   ]
  },
  {
   "cell_type": "markdown",
   "id": "7a91da49",
   "metadata": {},
   "source": [
    "10. **系列展开**:\n"
   ]
  },
  {
   "cell_type": "code",
   "execution_count": 26,
   "id": "b5f1cb2e",
   "metadata": {},
   "outputs": [
    {
     "data": {
      "text/latex": [
       "$\\displaystyle x - \\frac{x^{3}}{6} + \\frac{x^{5}}{120} - \\frac{x^{7}}{5040} + \\frac{x^{9}}{362880} + O\\left(x^{10}\\right)$"
      ],
      "text/plain": [
       "x - x**3/6 + x**5/120 - x**7/5040 + x**9/362880 + O(x**10)"
      ]
     },
     "execution_count": 26,
     "metadata": {},
     "output_type": "execute_result"
    }
   ],
   "source": [
    "expr = sin(x)\n",
    "series_expr = expr.series(x, 0, 10)\n",
    "series_expr"
   ]
  },
  {
   "cell_type": "markdown",
   "id": "114261d2",
   "metadata": {},
   "source": [
    "11. **方程组**:\n"
   ]
  },
  {
   "cell_type": "code",
   "execution_count": 28,
   "id": "9198fe24",
   "metadata": {},
   "outputs": [
    {
     "data": {
      "text/plain": [
       "{x: 4/3, y: -5/3}"
      ]
     },
     "execution_count": 28,
     "metadata": {},
     "output_type": "execute_result"
    }
   ],
   "source": [
    "eq1 = Eq(2*x + y, 1)\n",
    "eq2 = Eq(x - y, 3)\n",
    "solutions = solve((eq1,eq2), (x, y))\n",
    "solutions"
   ]
  },
  {
   "cell_type": "code",
   "execution_count": null,
   "id": "127eb26b",
   "metadata": {},
   "outputs": [],
   "source": []
  }
 ],
 "metadata": {
  "kernelspec": {
   "display_name": "Python 3 (ipykernel)",
   "language": "python",
   "name": "python3"
  },
  "language_info": {
   "codemirror_mode": {
    "name": "ipython",
    "version": 3
   },
   "file_extension": ".py",
   "mimetype": "text/x-python",
   "name": "python",
   "nbconvert_exporter": "python",
   "pygments_lexer": "ipython3",
   "version": "3.8.0"
  }
 },
 "nbformat": 4,
 "nbformat_minor": 5
}
